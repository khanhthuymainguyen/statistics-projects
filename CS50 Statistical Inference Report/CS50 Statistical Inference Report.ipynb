{
 "cells": [
  {
   "cell_type": "markdown",
   "metadata": {},
   "source": [
    "**Appendix A: Import data and packages to Python. Create subset**"
   ]
  },
  {
   "cell_type": "code",
   "execution_count": 1,
   "metadata": {},
   "outputs": [
    {
     "data": {
      "text/html": [
       "<div>\n",
       "<style scoped>\n",
       "    .dataframe tbody tr th:only-of-type {\n",
       "        vertical-align: middle;\n",
       "    }\n",
       "\n",
       "    .dataframe tbody tr th {\n",
       "        vertical-align: top;\n",
       "    }\n",
       "\n",
       "    .dataframe thead th {\n",
       "        text-align: right;\n",
       "    }\n",
       "</style>\n",
       "<table border=\"1\" class=\"dataframe\">\n",
       "  <thead>\n",
       "    <tr style=\"text-align: right;\">\n",
       "      <th></th>\n",
       "      <th>GPA</th>\n",
       "      <th>veggies_day</th>\n",
       "    </tr>\n",
       "  </thead>\n",
       "  <tbody>\n",
       "    <tr>\n",
       "      <th>0</th>\n",
       "      <td>2.25</td>\n",
       "      <td>1</td>\n",
       "    </tr>\n",
       "    <tr>\n",
       "      <th>1</th>\n",
       "      <td>3.80</td>\n",
       "      <td>1</td>\n",
       "    </tr>\n",
       "    <tr>\n",
       "      <th>2</th>\n",
       "      <td>2.20</td>\n",
       "      <td>2</td>\n",
       "    </tr>\n",
       "    <tr>\n",
       "      <th>3</th>\n",
       "      <td>3.87</td>\n",
       "      <td>2</td>\n",
       "    </tr>\n",
       "    <tr>\n",
       "      <th>4</th>\n",
       "      <td>3.20</td>\n",
       "      <td>2</td>\n",
       "    </tr>\n",
       "    <tr>\n",
       "      <th>5</th>\n",
       "      <td>3.70</td>\n",
       "      <td>2</td>\n",
       "    </tr>\n",
       "    <tr>\n",
       "      <th>6</th>\n",
       "      <td>3.10</td>\n",
       "      <td>2</td>\n",
       "    </tr>\n",
       "    <tr>\n",
       "      <th>7</th>\n",
       "      <td>3.40</td>\n",
       "      <td>2</td>\n",
       "    </tr>\n",
       "    <tr>\n",
       "      <th>8</th>\n",
       "      <td>3.50</td>\n",
       "      <td>2</td>\n",
       "    </tr>\n",
       "    <tr>\n",
       "      <th>9</th>\n",
       "      <td>3.92</td>\n",
       "      <td>2</td>\n",
       "    </tr>\n",
       "  </tbody>\n",
       "</table>\n",
       "</div>"
      ],
      "text/plain": [
       "    GPA  veggies_day\n",
       "0  2.25            1\n",
       "1  3.80            1\n",
       "2  2.20            2\n",
       "3  3.87            2\n",
       "4  3.20            2\n",
       "5  3.70            2\n",
       "6  3.10            2\n",
       "7  3.40            2\n",
       "8  3.50            2\n",
       "9  3.92            2"
      ]
     },
     "execution_count": 1,
     "metadata": {},
     "output_type": "execute_result"
    }
   ],
   "source": [
    "#import needed packages\n",
    "import pandas as pd\n",
    "import numpy as np \n",
    "import statistics as stats\n",
    "import matplotlib.pyplot as plt\n",
    "from scipy import stats\n",
    "\n",
    "foodchoice_df = pd.read_csv(\"food_coded.csv\") #import the data from csv file\n",
    "foodchoice_df = foodchoice_df.dropna(subset = ['GPA','veggies_day'])\n",
    "\n",
    "GPA = foodchoice_df['GPA'] \n",
    "veggies_day = foodchoice_df['veggies_day']\n",
    "\n",
    "#Convert the data into list for easier manipulation \n",
    "list_GPA = list(GPA)\n",
    "list_veggies_day = list(veggies_day)\n",
    "\n",
    "#Create list of 2 subset of GPA: Eat less veggies or eat more veggies\n",
    "less_veggies = [] \n",
    "more_veggies = [] \n",
    "\n",
    "for i in range(len(list_veggies_day)):\n",
    "    if list_veggies_day[i] <3: #GPA conressponding to those rate 1 or 2 on the likelihood of eating veggies\n",
    "        less_veggies.append(GPA[i])\n",
    "    if list_veggies_day[i] >3: #GPA conressponding to those rate 4 or 5 on the likelihood of eating veggies\n",
    "        more_veggies.append(GPA[i])\n",
    "\n",
    "foodchoice_df.head(10) #shows the first 10 rows of the data "
   ]
  },
  {
   "cell_type": "markdown",
   "metadata": {},
   "source": [
    "**Appendix B: Descriptive statistics for the dataset**"
   ]
  },
  {
   "cell_type": "code",
   "execution_count": 2,
   "metadata": {},
   "outputs": [
    {
     "name": "stdout",
     "output_type": "stream",
     "text": [
      "Descriptive stats for GPA\n",
      "Count:  121\n",
      "Mean:  3.419\n",
      "Median:  3.5\n",
      "Mode:  3.5\n",
      "Standard deviation:  0.388\n",
      "Range:  1.8\n",
      "\n",
      "Descriptive stats for likelihood of eating veggies\n",
      "Count:  121\n",
      "Mean:  4.025\n",
      "Median:  4.0\n",
      "Mode:  5\n",
      "Standard deviation:  1.048\n",
      "Range:  4\n",
      "\n",
      "Descriptive stats for GPA of students eating less veggies\n",
      "Count:  13\n",
      "Mean:  3.295\n",
      "Median:  3.4\n",
      "This list does not have a mode\n",
      "Mode:  None\n",
      "Standard deviation:  0.534\n",
      "Range:  1.72\n",
      "\n",
      "Descriptive stats for GPA of students eating more veggies\n",
      "Count:  88\n",
      "Mean:  3.449\n",
      "Median:  3.5\n",
      "Mode:  3.5\n",
      "Standard deviation:  0.358\n",
      "Range:  1.6\n"
     ]
    }
   ],
   "source": [
    "#Descriptive statistics for the dataset \n",
    "#Function to calculate mean, mode, range, and standard deviation of the dataset\n",
    "def mean(lst):\n",
    "    total = 0 # variable to calculate the sum of all values in the list \n",
    "    for i in range(len(lst)): #repeat this loop for each value of the list \n",
    "        total += lst[i] # sum is the current sum plus the value of the list\n",
    "    return round(total/len(lst),3) #mean is the total sum divided by the number of values of the list \n",
    "\n",
    "def my_count(lst, val): # function to count number of occurences of 1 value in a list \n",
    "    count = 0 #set initial occurence to 0\n",
    "    for i in range(len(lst)): # the loop to repeat for each value of the list \n",
    "        if lst[i] == val: # to check whether the current value matches our desirable value \"val\"\n",
    "            count += 1 #if it's true, the it is counted as 1\n",
    "    return count \n",
    "                        \n",
    "def mode(lst): \n",
    "    occurence = 0 # number of occurences of the mode value\n",
    "    mode = 0 # mode of the input list \n",
    "    for i in range(len(lst)): \n",
    "        if my_count(lst, lst[i]) > occurence: #check whether the current value has higher number of occurences than the previous value\n",
    "            mode = lst[i] #if yes, then the mode is the current value\n",
    "            occurence = my_count(lst, lst[i]) #update the maximum number of occurences according to the current mode \n",
    "    if occurence == 1: #if occurence is 1, meaning that all number in the list only occurs exactly 1 and do not repeat\n",
    "        return print(\"This list does not have a mode\") #then this list does not have a mode \n",
    "    else:\n",
    "        return round(mode, 3)\n",
    "\n",
    "def find_range(lst):\n",
    "    lst_range = max(lst) - min(lst) #range of a list is the difference between the maximum value and minimum value \n",
    "    return round(lst_range,3)\n",
    "    \n",
    "def std(lst):\n",
    "    total = 0\n",
    "    for i in range(len(lst)): \n",
    "        total += (lst[i]-mean(lst))**2 #find the difference between the current value and the mean of the list, then multiply it to the exponent of 2\n",
    "    std = (total/len(lst))**0.5 #divide the total above with the number of items in the list and find square root of it \n",
    "    return round(std, 3)\n",
    "\n",
    "#Build a function to calculate descriptive statistics based on Python inbuilt function\n",
    "def descriptive_stats(data):\n",
    "    print(\"Count: \", len(data))\n",
    "    print(\"Mean: \", mean(data))\n",
    "    print(\"Median: \", np.median(data))\n",
    "    print(\"Mode: \", mode(data))\n",
    "    print(\"Standard deviation: \", std(data))\n",
    "    print(\"Range: \", find_range(data))\n",
    "\n",
    "print(\"Descriptive stats for GPA\")    \n",
    "descriptive_stats(list_GPA)\n",
    "\n",
    "print(\"\\nDescriptive stats for likelihood of eating veggies\")    \n",
    "descriptive_stats(list_veggies_day)\n",
    "\n",
    "print(\"\\nDescriptive stats for GPA of students eating less veggies\")\n",
    "descriptive_stats(less_veggies)\n",
    "\n",
    "print(\"\\nDescriptive stats for GPA of students eating more veggies\")\n",
    "descriptive_stats(more_veggies)"
   ]
  },
  {
   "cell_type": "markdown",
   "metadata": {},
   "source": [
    "**Appendix C: Data visualization of the dataset**"
   ]
  },
  {
   "cell_type": "code",
   "execution_count": 3,
   "metadata": {},
   "outputs": [
    {
     "data": {
      "text/plain": [
       "Text(0,0.5,'Count')"
      ]
     },
     "execution_count": 3,
     "metadata": {},
     "output_type": "execute_result"
    },
    {
     "data": {
      "image/png": "[encoded data removed]",
      "text/plain": [
       "<Figure size 432x288 with 1 Axes>"
      ]
     },
     "metadata": {
      "needs_background": "light"
     },
     "output_type": "display_data"
    }
   ],
   "source": [
    "#Data visualization of the dataset \n",
    "plt.hist(list_GPA)\n",
    "plt.title(\"Distribution of GPA among college students\")\n",
    "plt.xlabel(\"GPA\")\n",
    "plt.ylabel(\"Count\")"
   ]
  },
  {
   "cell_type": "code",
   "execution_count": 4,
   "metadata": {},
   "outputs": [
    {
     "data": {
      "text/plain": [
       "Text(0,0.5,'Count')"
      ]
     },
     "execution_count": 4,
     "metadata": {},
     "output_type": "execute_result"
    },
    {
     "data": {
      "image/png": "[encoded data removed]",
      "text/plain": [
       "<Figure size 432x288 with 1 Axes>"
      ]
     },
     "metadata": {
      "needs_background": "light"
     },
     "output_type": "display_data"
    }
   ],
   "source": [
    "plt.hist(list_veggies_day, 5)\n",
    "plt.title(\"Distribution of likelihood of eating veggies in a day among college students\")\n",
    "plt.xlabel(\"Likelihood of eating veggies\")\n",
    "plt.ylabel(\"Count\")"
   ]
  },
  {
   "cell_type": "code",
   "execution_count": 5,
   "metadata": {},
   "outputs": [
    {
     "data": {
      "text/plain": [
       "Text(0,0.5,'Count')"
      ]
     },
     "execution_count": 5,
     "metadata": {},
     "output_type": "execute_result"
    },
    {
     "data": {
      "image/png": "[encoded data removed]",
      "text/plain": [
       "<Figure size 432x288 with 1 Axes>"
      ]
     },
     "metadata": {
      "needs_background": "light"
     },
     "output_type": "display_data"
    }
   ],
   "source": [
    "plt.hist(less_veggies)\n",
    "plt.title(\"Distribution of GPA of students eating less veggies\")\n",
    "plt.xlabel(\"GPA\")\n",
    "plt.ylabel(\"Count\")"
   ]
  },
  {
   "cell_type": "code",
   "execution_count": 6,
   "metadata": {},
   "outputs": [
    {
     "data": {
      "text/plain": [
       "Text(0,0.5,'Count')"
      ]
     },
     "execution_count": 6,
     "metadata": {},
     "output_type": "execute_result"
    },
    {
     "data": {
      "image/png": "[encoded data removed]",
      "text/plain": [
       "<Figure size 432x288 with 1 Axes>"
      ]
     },
     "metadata": {
      "needs_background": "light"
     },
     "output_type": "display_data"
    }
   ],
   "source": [
    "plt.hist(more_veggies)\n",
    "plt.title(\"Distribution of GPA of students eating more veggies\")\n",
    "plt.xlabel(\"GPA\")\n",
    "plt.ylabel(\"Count\")"
   ]
  },
  {
   "cell_type": "markdown",
   "metadata": {},
   "source": [
    "**Appendix D: Constructing confidence intervals of the mean of GPA**"
   ]
  },
  {
   "cell_type": "code",
   "execution_count": 7,
   "metadata": {},
   "outputs": [
    {
     "name": "stdout",
     "output_type": "stream",
     "text": [
      "The 95% confidence interval is from  3.35  to  3.488\n"
     ]
    }
   ],
   "source": [
    "#Constructing confidence interals of the mean of GPA\n",
    "#Standard error is the standard deviation divided by the square root of the sample size\n",
    "standard_error = std(list_GPA)/(len(list_GPA)**0.5)\n",
    "\n",
    "#Upper bound of the confidence interval \n",
    "#1.96 is the conressponding z-score of the 95% confidence level\n",
    "upper_limit = mean(list_GPA) + 1.96*standard_error \n",
    "\n",
    "#lower bound of the confidence interval\n",
    "lower_limit = mean(list_GPA) - 1.96*standard_error\n",
    "\n",
    "print(\"The 95% confidence interval is from \", round(lower_limit, 3), \" to \", round(upper_limit, 3))"
   ]
  },
  {
   "cell_type": "markdown",
   "metadata": {},
   "source": [
    "**Appendix E: Constructing the hypothesis test on the 2 means of the subset**"
   ]
  },
  {
   "cell_type": "code",
   "execution_count": 8,
   "metadata": {},
   "outputs": [
    {
     "name": "stdout",
     "output_type": "stream",
     "text": [
      "Standard error:  0.153\n",
      "T-score:  1.007\n",
      "p-value:  0.334\n",
      "Effect size:  0.401\n"
     ]
    }
   ],
   "source": [
    "#Constructing the hypothesis test\n",
    "\n",
    "#Data from the less_veggies group\n",
    "n1 = len(less_veggies)\n",
    "std1 = std(less_veggies)\n",
    "mean1 = mean(less_veggies)\n",
    "\n",
    "#Data from the more_veggies group\n",
    "n2 = len(more_veggies)\n",
    "std2 = std(more_veggies)\n",
    "mean2 = mean(more_veggies)\n",
    "\n",
    "#Standard error\n",
    "se = ((std1**2/n1)+(std2**2/n2))**0.5 \n",
    "t_score = abs(mean1-mean2)/se\n",
    "\n",
    "#Degree of freedom is subtracting 1 from the smaller sample size\n",
    "degree_of_freedom = (min(len(less_veggies), len(more_veggies))) - 1\n",
    "p_value = 2*stats.t.cdf(-t_score, degree_of_freedom)\n",
    "SD_pooled = (((std1**2)*(n1-1)+(std2**2)*(n2-1))/(n1+n2-2))**0.5\n",
    "effect_size = (mean2 - mean1)/SD_pooled\n",
    "\n",
    "print(\"Standard error: \", round(se,3))\n",
    "print(\"T-score: \", round(t_score, 3))\n",
    "print(\"p-value: \", round(p_value, 3))\n",
    "print(\"Effect size: \", round(effect_size,3))"
   ]
  }
 ],
 "metadata": {
  "kernelspec": {
   "display_name": "Python 3",
   "language": "python",
   "name": "python3"
  },
  "language_info": {
   "codemirror_mode": {
    "name": "ipython",
    "version": 3
   },
   "file_extension": ".py",
   "mimetype": "text/x-python",
   "name": "python",
   "nbconvert_exporter": "python",
   "pygments_lexer": "ipython3",
   "version": "3.7.1"
  }
 },
 "nbformat": 4,
 "nbformat_minor": 2
}
